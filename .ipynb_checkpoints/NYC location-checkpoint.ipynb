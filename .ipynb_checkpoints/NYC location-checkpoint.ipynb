{
 "cells": [
  {
   "cell_type": "code",
   "execution_count": 1,
   "id": "1dc529b5-3712-4474-9504-8d9993bcdc10",
   "metadata": {},
   "outputs": [
    {
     "data": {
      "text/html": [
       "<div>\n",
       "<style scoped>\n",
       "    .dataframe tbody tr th:only-of-type {\n",
       "        vertical-align: middle;\n",
       "    }\n",
       "\n",
       "    .dataframe tbody tr th {\n",
       "        vertical-align: top;\n",
       "    }\n",
       "\n",
       "    .dataframe thead th {\n",
       "        text-align: right;\n",
       "    }\n",
       "</style>\n",
       "<table border=\"1\" class=\"dataframe\">\n",
       "  <thead>\n",
       "    <tr style=\"text-align: right;\">\n",
       "      <th></th>\n",
       "      <th>Site_ID</th>\n",
       "      <th>Planned_Kiosk_Type</th>\n",
       "      <th>Installation_Status</th>\n",
       "      <th>PPT_ID</th>\n",
       "      <th>Legacy_ID</th>\n",
       "      <th>Borough</th>\n",
       "      <th>Council_District</th>\n",
       "      <th>Community_Board</th>\n",
       "      <th>Street_Address</th>\n",
       "      <th>Cross_Street_1</th>\n",
       "      <th>...</th>\n",
       "      <th>Zoning</th>\n",
       "      <th>Latitude</th>\n",
       "      <th>Longitude</th>\n",
       "      <th>Installation_Complete</th>\n",
       "      <th>Activation_Complete</th>\n",
       "      <th>Neighborhood_Tabulation_Area_(NTA)</th>\n",
       "      <th>Building_Identification_Number_(BIN)</th>\n",
       "      <th>Borough-Block-Lot_(BBL)</th>\n",
       "      <th>Census_Tract_(CT)</th>\n",
       "      <th>Location</th>\n",
       "    </tr>\n",
       "  </thead>\n",
       "  <tbody>\n",
       "    <tr>\n",
       "      <th>0</th>\n",
       "      <td>qu-13-160011</td>\n",
       "      <td>Link5G_NonAd</td>\n",
       "      <td>Live</td>\n",
       "      <td>NaN</td>\n",
       "      <td>NaN</td>\n",
       "      <td>Queens</td>\n",
       "      <td>31</td>\n",
       "      <td>413</td>\n",
       "      <td>241-01 135 AVENUE</td>\n",
       "      <td>242nd ST</td>\n",
       "      <td>...</td>\n",
       "      <td>R2</td>\n",
       "      <td>40.671700</td>\n",
       "      <td>-73.733230</td>\n",
       "      <td>2/23/24</td>\n",
       "      <td>10/3/24</td>\n",
       "      <td>Rosedale</td>\n",
       "      <td>4283966.0</td>\n",
       "      <td>4.132220e+09</td>\n",
       "      <td>NaN</td>\n",
       "      <td>(40.6717, -73.73323)</td>\n",
       "    </tr>\n",
       "    <tr>\n",
       "      <th>1</th>\n",
       "      <td>bx-02-111492</td>\n",
       "      <td>Link1.0</td>\n",
       "      <td>Live</td>\n",
       "      <td>111492</td>\n",
       "      <td>LINK-010250</td>\n",
       "      <td>Bronx</td>\n",
       "      <td>17</td>\n",
       "      <td>202</td>\n",
       "      <td>948 EAST 163 STREET</td>\n",
       "      <td>KELLY STREET</td>\n",
       "      <td>...</td>\n",
       "      <td>C1-4</td>\n",
       "      <td>40.820902</td>\n",
       "      <td>-73.896055</td>\n",
       "      <td>2/12/22</td>\n",
       "      <td>5/2/22</td>\n",
       "      <td>Longwood</td>\n",
       "      <td>2005453.0</td>\n",
       "      <td>2.027030e+09</td>\n",
       "      <td>2008700.0</td>\n",
       "      <td>(40.820902, -73.896055)</td>\n",
       "    </tr>\n",
       "    <tr>\n",
       "      <th>2</th>\n",
       "      <td>bx-07-145690</td>\n",
       "      <td>Link1.0</td>\n",
       "      <td>Live</td>\n",
       "      <td>145690</td>\n",
       "      <td>LINK-005579</td>\n",
       "      <td>Bronx</td>\n",
       "      <td>14</td>\n",
       "      <td>207</td>\n",
       "      <td>30 EAST KINGSBRIDGE ROAD</td>\n",
       "      <td>MORRIS AVENUE</td>\n",
       "      <td>...</td>\n",
       "      <td>C1-3</td>\n",
       "      <td>40.867038</td>\n",
       "      <td>-73.896537</td>\n",
       "      <td>8/27/16</td>\n",
       "      <td>11/8/16</td>\n",
       "      <td>Bedford Park-Fordham North</td>\n",
       "      <td>2014144.0</td>\n",
       "      <td>2.031910e+09</td>\n",
       "      <td>2040100.0</td>\n",
       "      <td>(40.867038, -73.896537)</td>\n",
       "    </tr>\n",
       "    <tr>\n",
       "      <th>3</th>\n",
       "      <td>mn-03-139034</td>\n",
       "      <td>Link1.0</td>\n",
       "      <td>Live</td>\n",
       "      <td>139034</td>\n",
       "      <td>mn-03-139034</td>\n",
       "      <td>Manhattan</td>\n",
       "      <td>2</td>\n",
       "      <td>103</td>\n",
       "      <td>220 1 AVENUE</td>\n",
       "      <td>EAST 14 STREET</td>\n",
       "      <td>...</td>\n",
       "      <td>C1-7A</td>\n",
       "      <td>40.730767</td>\n",
       "      <td>-73.982847</td>\n",
       "      <td>2/17/18</td>\n",
       "      <td>5/17/18</td>\n",
       "      <td>East Village</td>\n",
       "      <td>1006010.0</td>\n",
       "      <td>1.004410e+09</td>\n",
       "      <td>1003400.0</td>\n",
       "      <td>(40.730767, -73.982847)</td>\n",
       "    </tr>\n",
       "    <tr>\n",
       "      <th>4</th>\n",
       "      <td>mn-05-108039</td>\n",
       "      <td>Link1.0</td>\n",
       "      <td>Live</td>\n",
       "      <td>108039</td>\n",
       "      <td>mn-05-108039</td>\n",
       "      <td>Manhattan</td>\n",
       "      <td>3</td>\n",
       "      <td>105</td>\n",
       "      <td>1149 BROADWAY</td>\n",
       "      <td>WEST 27 STREET</td>\n",
       "      <td>...</td>\n",
       "      <td>M1-6</td>\n",
       "      <td>40.744243</td>\n",
       "      <td>-73.989016</td>\n",
       "      <td>10/1/16</td>\n",
       "      <td>11/8/16</td>\n",
       "      <td>Hudson Yards-Chelsea-Flatiron-Union Square</td>\n",
       "      <td>1015655.0</td>\n",
       "      <td>1.008280e+09</td>\n",
       "      <td>1005800.0</td>\n",
       "      <td>(40.744243, -73.989016)</td>\n",
       "    </tr>\n",
       "  </tbody>\n",
       "</table>\n",
       "<p>5 rows × 23 columns</p>\n",
       "</div>"
      ],
      "text/plain": [
       "        Site_ID Planned_Kiosk_Type Installation_Status  PPT_ID     Legacy_ID  \\\n",
       "0  qu-13-160011       Link5G_NonAd                Live     NaN           NaN   \n",
       "1  bx-02-111492            Link1.0                Live  111492   LINK-010250   \n",
       "2  bx-07-145690            Link1.0                Live  145690   LINK-005579   \n",
       "3  mn-03-139034            Link1.0                Live  139034  mn-03-139034   \n",
       "4  mn-05-108039            Link1.0                Live  108039  mn-05-108039   \n",
       "\n",
       "     Borough  Council_District  Community_Board            Street_Address  \\\n",
       "0     Queens                31              413         241-01 135 AVENUE   \n",
       "1      Bronx                17              202       948 EAST 163 STREET   \n",
       "2      Bronx                14              207  30 EAST KINGSBRIDGE ROAD   \n",
       "3  Manhattan                 2              103              220 1 AVENUE   \n",
       "4  Manhattan                 3              105             1149 BROADWAY   \n",
       "\n",
       "   Cross_Street_1  ... Zoning   Latitude  Longitude Installation_Complete  \\\n",
       "0        242nd ST  ...     R2  40.671700 -73.733230               2/23/24   \n",
       "1    KELLY STREET  ...   C1-4  40.820902 -73.896055               2/12/22   \n",
       "2   MORRIS AVENUE  ...   C1-3  40.867038 -73.896537               8/27/16   \n",
       "3  EAST 14 STREET  ...  C1-7A  40.730767 -73.982847               2/17/18   \n",
       "4  WEST 27 STREET  ...   M1-6  40.744243 -73.989016               10/1/16   \n",
       "\n",
       "   Activation_Complete          Neighborhood_Tabulation_Area_(NTA)  \\\n",
       "0              10/3/24                                    Rosedale   \n",
       "1               5/2/22                                    Longwood   \n",
       "2              11/8/16                  Bedford Park-Fordham North   \n",
       "3              5/17/18                                East Village   \n",
       "4              11/8/16  Hudson Yards-Chelsea-Flatiron-Union Square   \n",
       "\n",
       "  Building_Identification_Number_(BIN) Borough-Block-Lot_(BBL)  \\\n",
       "0                            4283966.0            4.132220e+09   \n",
       "1                            2005453.0            2.027030e+09   \n",
       "2                            2014144.0            2.031910e+09   \n",
       "3                            1006010.0            1.004410e+09   \n",
       "4                            1015655.0            1.008280e+09   \n",
       "\n",
       "  Census_Tract_(CT)                 Location  \n",
       "0               NaN     (40.6717, -73.73323)  \n",
       "1         2008700.0  (40.820902, -73.896055)  \n",
       "2         2040100.0  (40.867038, -73.896537)  \n",
       "3         1003400.0  (40.730767, -73.982847)  \n",
       "4         1005800.0  (40.744243, -73.989016)  \n",
       "\n",
       "[5 rows x 23 columns]"
      ]
     },
     "execution_count": 1,
     "metadata": {},
     "output_type": "execute_result"
    }
   ],
   "source": [
    "import pandas as pd\n",
    "\n",
    "\n",
    "df = pd.read_csv(\"LinkNYC_Kiosk_Location.csv\")\n",
    "df.head()"
   ]
  },
  {
   "cell_type": "code",
   "execution_count": 3,
   "id": "096f7b37-483c-4b4e-bf94-58d52c97e631",
   "metadata": {},
   "outputs": [
    {
     "data": {
      "text/plain": [
       "Installation_Status\n",
       "Live                         2176\n",
       "Removed Pending Reinstall      12\n",
       "Name: count, dtype: int64"
      ]
     },
     "execution_count": 3,
     "metadata": {},
     "output_type": "execute_result"
    }
   ],
   "source": [
    "df['Installation_Status'].value_counts()"
   ]
  },
  {
   "cell_type": "code",
   "execution_count": 5,
   "id": "61ea4828-4f4e-4409-8352-c341e9c57040",
   "metadata": {},
   "outputs": [
    {
     "data": {
      "text/plain": [
       "Street_Address\n",
       "90-20 QUEENS BOULEVARD    2\n",
       "750 6 AVENUE              2\n",
       "1626 AMSTERDAM AVENUE     2\n",
       "55 WATER STREET           2\n",
       "133 EAST 40 STREET        2\n",
       "                         ..\n",
       "434 MANHATTAN AVENUE      1\n",
       "498 WEST 53 STREET        1\n",
       "1001 1 AVENUE             1\n",
       "141 3 AVENUE              1\n",
       "1 EAST 32 STREET          1\n",
       "Name: count, Length: 2173, dtype: int64"
      ]
     },
     "execution_count": 5,
     "metadata": {},
     "output_type": "execute_result"
    }
   ],
   "source": [
    "df['Street_Address'].value_counts()"
   ]
  },
  {
   "cell_type": "code",
   "execution_count": 6,
   "id": "85eaea76-bc40-48ef-8da0-324032c3a7a5",
   "metadata": {},
   "outputs": [
    {
     "data": {
      "text/plain": [
       "Planned_Kiosk_Type\n",
       "Link1.0             2023\n",
       "Link5G_Ad            125\n",
       "Link5G_NonAd          22\n",
       "LINK1.0               14\n",
       "Public Payphones       4\n",
       "Name: count, dtype: int64"
      ]
     },
     "execution_count": 6,
     "metadata": {},
     "output_type": "execute_result"
    }
   ],
   "source": [
    "df['Planned_Kiosk_Type'].value_counts()"
   ]
  },
  {
   "cell_type": "code",
   "execution_count": 7,
   "id": "32d82c47-cd0b-4dea-babb-f6914d57e1f5",
   "metadata": {},
   "outputs": [
    {
     "data": {
      "text/plain": [
       "Building_Identification_Number_(BIN)\n",
       "3000000.0    12\n",
       "1000000.0     8\n",
       "2000000.0     6\n",
       "4000000.0     5\n",
       "1028950.0     4\n",
       "             ..\n",
       "3067915.0     1\n",
       "1026740.0     1\n",
       "1039951.0     1\n",
       "1019522.0     1\n",
       "1017006.0     1\n",
       "Name: count, Length: 1976, dtype: int64"
      ]
     },
     "execution_count": 7,
     "metadata": {},
     "output_type": "execute_result"
    }
   ],
   "source": [
    "df['Building_Identification_Number_(BIN)'].value_counts()"
   ]
  },
  {
   "cell_type": "code",
   "execution_count": 8,
   "id": "82e41a76-f1fc-49af-9fed-1d3d04b967b4",
   "metadata": {},
   "outputs": [
    {
     "data": {
      "text/plain": [
       "Borough        Installation_Status      \n",
       "Bronx          Live                          212\n",
       "               Removed Pending Reinstall       2\n",
       "Brooklyn       Live                          339\n",
       "               Removed Pending Reinstall       1\n",
       "Manhattan      Live                         1220\n",
       "               Removed Pending Reinstall       6\n",
       "Queens         Live                          355\n",
       "               Removed Pending Reinstall       3\n",
       "Staten Island  Live                           50\n",
       "Name: count, dtype: int64"
      ]
     },
     "execution_count": 8,
     "metadata": {},
     "output_type": "execute_result"
    }
   ],
   "source": [
    "df.groupby('Borough')['Installation_Status'].value_counts()"
   ]
  },
  {
   "cell_type": "code",
   "execution_count": 9,
   "id": "4d4336b8-ffde-43e5-9f59-395fafd8abe4",
   "metadata": {},
   "outputs": [],
   "source": [
    "#Once I ask the question about sorting in the meeting, I plan to get the installation date and activation date difference"
   ]
  }
 ],
 "metadata": {
  "kernelspec": {
   "display_name": "Python 3 (ipykernel)",
   "language": "python",
   "name": "python3"
  },
  "language_info": {
   "codemirror_mode": {
    "name": "ipython",
    "version": 3
   },
   "file_extension": ".py",
   "mimetype": "text/x-python",
   "name": "python",
   "nbconvert_exporter": "python",
   "pygments_lexer": "ipython3",
   "version": "3.12.7"
  }
 },
 "nbformat": 4,
 "nbformat_minor": 5
}
